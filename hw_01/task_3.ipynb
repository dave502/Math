{
 "cells": [
  {
   "cell_type": "code",
   "execution_count": 65,
   "id": "e4fe2a84",
   "metadata": {},
   "outputs": [],
   "source": [
    "from itertools import combinations\n",
    "def union(X,Y):\n",
    "    return X|Y\n",
    "def intersection(X,Y):\n",
    "    return X&Y\n",
    "def differrence(X,Y):\n",
    "    return X-Y\n",
    "def differrence_reverse(X,Y):\n",
    "    return Y-X\n",
    "def sym_difference(X,Y):\n",
    "    return X^Y\n",
    "# список бинарных функций\n",
    "functions = [union, intersection, differrence, differrence_reverse, sym_difference]\n",
    "\n",
    "A = {i for i in range(-10,7)} # [-10;6]\n",
    "B = {3, 5, 7, 9}\n",
    "C = {i for i in range(6,15)} # (5; 15) # 15 вместо бесконечности\n",
    "# список множеств (в виде словарей для красивого вывода)\n",
    "sets_list = [{'A':A}, {'B':B}, {'C':C}]"
   ]
  },
  {
   "cell_type": "code",
   "execution_count": 68,
   "id": "658cd7bf",
   "metadata": {},
   "outputs": [
    {
     "name": "stdout",
     "output_type": "stream",
     "text": [
      "A={0, 1, 2, 3, 4, 5, 6, -10, -9, -8, -7, -6, -5, -4, -3, -2, -1} \n",
      "B={9, 3, 5, 7} \n",
      "C={6, 7, 8, 9, 10, 11, 12, 13, 14}\n",
      "\n",
      "1: A union B union C =\n",
      "{0, 1, 2, 3, 4, 5, 6, 7, 8, 9, 10, 11, 12, 13, 14, -10, -9, -8, -7, -6, -5, -4, -3, -2, -1}\n",
      "2: A union B intersection C =\n",
      "{9, 6, 7}\n",
      "3: A union B differrence C =\n",
      "{0, 1, 2, 3, 4, 5, -10, -9, -8, -7, -6, -5, -4, -3, -2, -1}\n",
      "4: A union B differrence_reverse C =\n",
      "{8, 10, 11, 12, 13, 14}\n",
      "5: A union B sym_difference C =\n",
      "{0, 1, 2, 3, 4, 5, 8, 10, 11, 12, 13, 14, -10, -9, -8, -7, -6, -5, -4, -3, -2, -1}\n",
      "6: A intersection B union C =\n",
      "{3, 5, 6, 7, 8, 9, 10, 11, 12, 13, 14}\n",
      "7: A intersection B intersection C =\n",
      "set()\n",
      "8: A intersection B differrence C =\n",
      "{3, 5}\n",
      "9: A intersection B differrence_reverse C =\n",
      "{6, 7, 8, 9, 10, 11, 12, 13, 14}\n",
      "10: A intersection B sym_difference C =\n",
      "{3, 5, 6, 7, 8, 9, 10, 11, 12, 13, 14}\n",
      "11: A differrence B union C =\n",
      "{0, 1, 2, 4, 6, 7, 8, 9, 10, 11, 12, 13, 14, -10, -9, -8, -7, -6, -5, -4, -3, -2, -1}\n",
      "12: A differrence B intersection C =\n",
      "{6}\n",
      "13: A differrence B differrence C =\n",
      "{0, 1, 2, 4, -10, -9, -8, -7, -6, -5, -4, -3, -2, -1}\n",
      "14: A differrence B differrence_reverse C =\n",
      "{7, 8, 9, 10, 11, 12, 13, 14}\n",
      "15: A differrence B sym_difference C =\n",
      "{0, 1, 2, 4, 7, 8, 9, 10, 11, 12, 13, 14, -10, -9, -8, -7, -6, -5, -4, -3, -2, -1}\n",
      "16: A differrence_reverse B union C =\n",
      "{6, 7, 8, 9, 10, 11, 12, 13, 14}\n",
      "17: A differrence_reverse B intersection C =\n",
      "{9, 7}\n",
      "18: A differrence_reverse B differrence C =\n",
      "set()\n",
      "19: A differrence_reverse B differrence_reverse C =\n",
      "{6, 8, 10, 11, 12, 13, 14}\n",
      "20: A differrence_reverse B sym_difference C =\n",
      "{6, 8, 10, 11, 12, 13, 14}\n",
      "21: A sym_difference B union C =\n",
      "{0, 1, 2, 4, 6, 7, 8, 9, 10, 11, 12, 13, 14, -10, -9, -8, -7, -6, -5, -4, -3, -2, -1}\n",
      "22: A sym_difference B intersection C =\n",
      "{9, 6, 7}\n",
      "23: A sym_difference B differrence C =\n",
      "{0, 1, 2, 4, -10, -9, -8, -7, -6, -5, -4, -3, -2, -1}\n",
      "24: A sym_difference B differrence_reverse C =\n",
      "{8, 10, 11, 12, 13, 14}\n",
      "25: A sym_difference B sym_difference C =\n",
      "{0, 1, 2, 4, 8, 10, 11, 12, 13, 14, -10, -9, -8, -7, -6, -5, -4, -3, -2, -1}\n"
     ]
    }
   ],
   "source": [
    "print(f'A={A} \\nB={B} \\nC={C}\\n')\n",
    "\n",
    "# лямбды для получения имени множества и самого множества из словарей\n",
    "set_name = lambda x, y: [*x[y].keys()][0]\n",
    "set_elements = lambda x, y: [*x[y].values()][0]\n",
    "\n",
    "operation_counter = 0\n",
    "\n",
    "# перебираем операции и множества из списков\n",
    "for func1 in functions:\n",
    "    for func2 in functions:\n",
    "        for sets in combinations(sets_list, 3):\n",
    "            operation_counter += 1\n",
    "            print(f'{operation_counter}: {el(sets, 0)} {func1.__name__} {el(sets, 1)} {func2.__name__} {el(sets, 2)} =')\n",
    "            S0 = set_elements(sets, 0) # переменные для более понятного кода \n",
    "            S1 = set_elements(sets, 1)\n",
    "            S2 = set_elements(sets, 2)\n",
    "            print(func2(func1(S0, S1), S2))"
   ]
  },
  {
   "cell_type": "code",
   "execution_count": null,
   "id": "7e1b4884",
   "metadata": {},
   "outputs": [],
   "source": []
  },
  {
   "cell_type": "code",
   "execution_count": null,
   "id": "3206fc1a",
   "metadata": {},
   "outputs": [],
   "source": []
  }
 ],
 "metadata": {
  "kernelspec": {
   "display_name": "Python 3 (ipykernel)",
   "language": "python",
   "name": "python3"
  },
  "language_info": {
   "codemirror_mode": {
    "name": "ipython",
    "version": 3
   },
   "file_extension": ".py",
   "mimetype": "text/x-python",
   "name": "python",
   "nbconvert_exporter": "python",
   "pygments_lexer": "ipython3",
   "version": "3.7.4"
  }
 },
 "nbformat": 4,
 "nbformat_minor": 5
}
